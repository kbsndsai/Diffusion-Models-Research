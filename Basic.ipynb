{
 "cells": [
  {
   "cell_type": "code",
   "execution_count": 2,
   "id": "04e8e74f",
   "metadata": {},
   "outputs": [
    {
     "name": "stdout",
     "output_type": "stream",
     "text": [
      "Collecting denoising_diffusion_pytorch\n",
      "  Downloading denoising_diffusion_pytorch-1.8.8-py3-none-any.whl (56 kB)\n",
      "     ---------------------------------------- 57.0/57.0 kB 3.1 MB/s eta 0:00:00\n",
      "Requirement already satisfied: numpy in c:\\users\\kbsnd\\anaconda3\\lib\\site-packages (from denoising_diffusion_pytorch) (1.23.5)\n",
      "Collecting accelerate\n",
      "  Downloading accelerate-0.21.0-py3-none-any.whl (244 kB)\n",
      "     -------------------------------------- 244.2/244.2 kB 5.0 MB/s eta 0:00:00\n",
      "Requirement already satisfied: pillow in c:\\users\\kbsnd\\anaconda3\\lib\\site-packages (from denoising_diffusion_pytorch) (9.4.0)\n",
      "Requirement already satisfied: tqdm in c:\\users\\kbsnd\\anaconda3\\lib\\site-packages (from denoising_diffusion_pytorch) (4.64.1)\n",
      "Collecting ema-pytorch\n",
      "  Downloading ema_pytorch-0.2.3-py3-none-any.whl (4.4 kB)\n",
      "Collecting pytorch-fid\n",
      "  Downloading pytorch_fid-0.3.0-py3-none-any.whl (15 kB)\n",
      "Requirement already satisfied: torchvision in c:\\users\\kbsnd\\anaconda3\\lib\\site-packages (from denoising_diffusion_pytorch) (0.15.2)\n",
      "Requirement already satisfied: torch in c:\\users\\kbsnd\\anaconda3\\lib\\site-packages (from denoising_diffusion_pytorch) (2.0.1)\n",
      "Collecting einops\n",
      "  Downloading einops-0.6.1-py3-none-any.whl (42 kB)\n",
      "     ---------------------------------------- 42.2/42.2 kB 2.0 MB/s eta 0:00:00\n",
      "Requirement already satisfied: packaging>=20.0 in c:\\users\\kbsnd\\anaconda3\\lib\\site-packages (from accelerate->denoising_diffusion_pytorch) (22.0)\n",
      "Requirement already satisfied: pyyaml in c:\\users\\kbsnd\\anaconda3\\lib\\site-packages (from accelerate->denoising_diffusion_pytorch) (6.0)\n",
      "Requirement already satisfied: psutil in c:\\users\\kbsnd\\anaconda3\\lib\\site-packages (from accelerate->denoising_diffusion_pytorch) (5.9.0)\n",
      "Requirement already satisfied: typing-extensions in c:\\users\\kbsnd\\anaconda3\\lib\\site-packages (from torch->denoising_diffusion_pytorch) (4.4.0)\n",
      "Requirement already satisfied: jinja2 in c:\\users\\kbsnd\\anaconda3\\lib\\site-packages (from torch->denoising_diffusion_pytorch) (3.1.2)\n",
      "Requirement already satisfied: networkx in c:\\users\\kbsnd\\anaconda3\\lib\\site-packages (from torch->denoising_diffusion_pytorch) (2.8.4)\n",
      "Requirement already satisfied: filelock in c:\\users\\kbsnd\\anaconda3\\lib\\site-packages (from torch->denoising_diffusion_pytorch) (3.9.0)\n",
      "Requirement already satisfied: sympy in c:\\users\\kbsnd\\anaconda3\\lib\\site-packages (from torch->denoising_diffusion_pytorch) (1.11.1)\n",
      "Requirement already satisfied: scipy in c:\\users\\kbsnd\\anaconda3\\lib\\site-packages (from pytorch-fid->denoising_diffusion_pytorch) (1.10.0)\n",
      "Requirement already satisfied: requests in c:\\users\\kbsnd\\anaconda3\\lib\\site-packages (from torchvision->denoising_diffusion_pytorch) (2.28.1)\n",
      "Requirement already satisfied: colorama in c:\\users\\kbsnd\\anaconda3\\lib\\site-packages (from tqdm->denoising_diffusion_pytorch) (0.4.6)\n",
      "Requirement already satisfied: MarkupSafe>=2.0 in c:\\users\\kbsnd\\anaconda3\\lib\\site-packages (from jinja2->torch->denoising_diffusion_pytorch) (2.1.1)\n",
      "Requirement already satisfied: certifi>=2017.4.17 in c:\\users\\kbsnd\\anaconda3\\lib\\site-packages (from requests->torchvision->denoising_diffusion_pytorch) (2022.12.7)\n",
      "Requirement already satisfied: idna<4,>=2.5 in c:\\users\\kbsnd\\anaconda3\\lib\\site-packages (from requests->torchvision->denoising_diffusion_pytorch) (3.4)\n",
      "Requirement already satisfied: charset-normalizer<3,>=2 in c:\\users\\kbsnd\\anaconda3\\lib\\site-packages (from requests->torchvision->denoising_diffusion_pytorch) (2.0.4)\n",
      "Requirement already satisfied: urllib3<1.27,>=1.21.1 in c:\\users\\kbsnd\\anaconda3\\lib\\site-packages (from requests->torchvision->denoising_diffusion_pytorch) (1.26.14)\n",
      "Requirement already satisfied: mpmath>=0.19 in c:\\users\\kbsnd\\anaconda3\\lib\\site-packages (from sympy->torch->denoising_diffusion_pytorch) (1.2.1)\n",
      "Installing collected packages: einops, ema-pytorch, accelerate, pytorch-fid, denoising_diffusion_pytorch\n",
      "Successfully installed accelerate-0.21.0 denoising_diffusion_pytorch-1.8.8 einops-0.6.1 ema-pytorch-0.2.3 pytorch-fid-0.3.0\n",
      "Note: you may need to restart the kernel to use updated packages.\n"
     ]
    }
   ],
   "source": [
    "pip install denoising_diffusion_pytorch"
   ]
  },
  {
   "cell_type": "code",
   "execution_count": 3,
   "id": "db663596",
   "metadata": {},
   "outputs": [
    {
     "data": {
      "application/vnd.jupyter.widget-view+json": {
       "model_id": "88f871f6d56e46a0a93b7b5d85b82138",
       "version_major": 2,
       "version_minor": 0
      },
      "text/plain": [
       "sampling loop time step:   0%|          | 0/1000 [00:00<?, ?it/s]"
      ]
     },
     "metadata": {},
     "output_type": "display_data"
    },
    {
     "data": {
      "text/plain": [
       "torch.Size([4, 3, 128, 128])"
      ]
     },
     "execution_count": 3,
     "metadata": {},
     "output_type": "execute_result"
    }
   ],
   "source": [
    "import torch\n",
    "from denoising_diffusion_pytorch import Unet, GaussianDiffusion\n",
    "\n",
    "model = Unet(\n",
    "    dim = 64,\n",
    "    dim_mults = (1, 2, 4, 8),\n",
    "    flash_attn = True\n",
    ")\n",
    "\n",
    "diffusion = GaussianDiffusion(\n",
    "    model,\n",
    "    image_size = 128,\n",
    "    timesteps = 1000    # number of steps\n",
    ")\n",
    "\n",
    "training_images = torch.rand(8, 3, 128, 128) # images are normalized from 0 to 1\n",
    "loss = diffusion(training_images)\n",
    "loss.backward()\n",
    "\n",
    "# after a lot of training\n",
    "\n",
    "sampled_images = diffusion.sample(batch_size = 4)\n",
    "sampled_images.shape # (4, 3, 128, 128)"
   ]
  },
  {
   "cell_type": "code",
   "execution_count": null,
   "id": "69574fac",
   "metadata": {},
   "outputs": [],
   "source": []
  },
  {
   "cell_type": "code",
   "execution_count": null,
   "id": "17ac71da",
   "metadata": {},
   "outputs": [],
   "source": []
  }
 ],
 "metadata": {
  "kernelspec": {
   "display_name": "Python 3 (ipykernel)",
   "language": "python",
   "name": "python3"
  },
  "language_info": {
   "codemirror_mode": {
    "name": "ipython",
    "version": 3
   },
   "file_extension": ".py",
   "mimetype": "text/x-python",
   "name": "python",
   "nbconvert_exporter": "python",
   "pygments_lexer": "ipython3",
   "version": "3.10.9"
  }
 },
 "nbformat": 4,
 "nbformat_minor": 5
}
